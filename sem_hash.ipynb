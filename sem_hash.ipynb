{
  "nbformat": 4,
  "nbformat_minor": 0,
  "metadata": {
    "colab": {
      "name": "sem_hash.ipynb",
      "provenance": [],
      "collapsed_sections": [],
      "machine_shape": "hm"
    },
    "kernelspec": {
      "name": "python3",
      "display_name": "Python 3"
    },
    "accelerator": "GPU"
  },
  "cells": [
    {
      "cell_type": "code",
      "metadata": {
        "id": "ve90WAhkbbp4",
        "colab_type": "code",
        "outputId": "080b124d-039f-4fbd-bfa0-65af4099b47f",
        "colab": {
          "base_uri": "https://localhost:8080/",
          "height": 79
        }
      },
      "source": [
        "\n",
        "from __future__ import absolute_import\n",
        "from __future__ import division\n",
        "from __future__ import print_function\n",
        "from builtins import input\n",
        "\n",
        "#import system things\n",
        "from tensorflow.examples.tutorials.mnist import input_data # for data\n",
        "import tensorflow as tf\n",
        "import numpy as np\n",
        "import os\n",
        "import keras\n",
        "\n",
        "\n",
        "# Code to read csv file into Colaboratory:\n",
        "!pip install -U -q PyDrive\n",
        "import tensorflow as tf\n",
        "from pydrive.auth import GoogleAuth\n",
        "from pydrive.drive import GoogleDrive\n",
        "from google.colab import auth\n",
        "from oauth2client.client import GoogleCredentials\n",
        "import pandas as pd\n",
        "# Authenticate and create the PyDrive client.\n",
        "auth.authenticate_user()\n",
        "gauth = GoogleAuth()\n",
        "gauth.credentials = GoogleCredentials.get_application_default()\n",
        "drive = GoogleDrive(gauth)"
      ],
      "execution_count": 0,
      "outputs": [
        {
          "output_type": "display_data",
          "data": {
            "text/html": [
              "<p style=\"color: red;\">\n",
              "The default version of TensorFlow in Colab will soon switch to TensorFlow 2.x.<br>\n",
              "We recommend you <a href=\"https://www.tensorflow.org/guide/migrate\" target=\"_blank\">upgrade</a> now \n",
              "or ensure your notebook will continue to use TensorFlow 1.x via the <code>%tensorflow_version 1.x</code> magic:\n",
              "<a href=\"https://colab.research.google.com/notebooks/tensorflow_version.ipynb\" target=\"_blank\">more info</a>.</p>\n"
            ],
            "text/plain": [
              "<IPython.core.display.HTML object>"
            ]
          },
          "metadata": {
            "tags": []
          }
        },
        {
          "output_type": "stream",
          "text": [
            "Using TensorFlow backend.\n"
          ],
          "name": "stderr"
        }
      ]
    },
    {
      "cell_type": "code",
      "metadata": {
        "id": "ABJA0q1TXzhD",
        "colab_type": "code",
        "outputId": "5ad883f4-0378-4875-9ea6-b2a9790b576f",
        "colab": {
          "base_uri": "https://localhost:8080/",
          "height": 84
        }
      },
      "source": [
        "from sklearn.feature_extraction.text import CountVectorizer\n",
        "from nltk.util import ngrams\n",
        "import nltk\n",
        "nltk.download('stopwords')\n",
        "nltk.download('punkt')\n",
        "from nltk.corpus import stopwords\n",
        "from tqdm import tqdm\n",
        "import pickle\n",
        "from google.colab import files\n",
        "from nltk.stem import PorterStemmer\n",
        "from nltk.tokenize import word_tokenize"
      ],
      "execution_count": 0,
      "outputs": [
        {
          "output_type": "stream",
          "text": [
            "[nltk_data] Downloading package stopwords to /root/nltk_data...\n",
            "[nltk_data]   Unzipping corpora/stopwords.zip.\n",
            "[nltk_data] Downloading package punkt to /root/nltk_data...\n",
            "[nltk_data]   Unzipping tokenizers/punkt.zip.\n"
          ],
          "name": "stdout"
        }
      ]
    },
    {
      "cell_type": "code",
      "metadata": {
        "id": "wHG2L30sbugI",
        "colab_type": "code",
        "outputId": "8a6d59bc-574b-4497-d660-63db8b00fa2a",
        "colab": {
          "base_uri": "https://localhost:8080/",
          "height": 322
        }
      },
      "source": [
        "link=\"https://drive.google.com/open?id=1idFQdGwPfmnWUtmO19Gd187AQmfhNyWr\" #create shareable link of google drive file\n",
        "fluff, id = link.split('=')\n",
        "print (id) # Verify that you have everything after '='\n",
        "\n",
        "downloaded = drive.CreateFile({'id':id}) \n",
        "downloaded.GetContentFile('QA.tsv')  \n",
        "data = pd.read_csv('QA.tsv', header=None, sep='\\t', error_bad_lines=False).values\n",
        "print(len(data))\n",
        "\n",
        "stop_words = set(stopwords.words('english')) \n",
        "vectorizer = CountVectorizer(stop_words=stop_words)\n",
        "tokenizer=vectorizer.build_tokenizer()\n",
        "result=[]\n",
        "\n",
        "def find_ngrams(input_list, n):\n",
        "    return zip(*[input_list[i:] for i in range(n)])\n",
        "\n",
        "def getThreeHash(text):\n",
        "  text = text.lower()\n",
        "  hashes=\"\"\n",
        "  tokens=tokenizer(text)\n",
        "  # ps = PorterStemmer()\n",
        "  # tokens = [ps.stem(word) for word in tokens]\n",
        "  for unhashed_token in tokens:\n",
        "    hashed_token = \"#{}#\".format(unhashed_token)\n",
        "    for gram in list(find_ngrams(list(hashed_token), 3)):\n",
        "      hashes += ''.join(gram) + ' '\n",
        "  return hashes\n",
        "\n",
        "i = 0\n",
        "for question in tqdm(data[:50000,0]):\n",
        "  result.append(getThreeHash(question))\n",
        "  if i == 100:\n",
        "    print(result)\n",
        "  i += 1\n",
        "  \n",
        "for answer in tqdm(data[:50000,1]):\n",
        "  if isinstance(answer,str):\n",
        "    result.append(getThreeHash(answer))\n",
        "    \n",
        "del data\n",
        "\n",
        "#vectorizer = CountVectorizer()\n",
        "#vectorizer.fit(result)\n",
        "#print(len(vectorizer.get_feature_names()))"
      ],
      "execution_count": 0,
      "outputs": [
        {
          "output_type": "stream",
          "text": [
            "1idFQdGwPfmnWUtmO19Gd187AQmfhNyWr\n"
          ],
          "name": "stdout"
        },
        {
          "output_type": "stream",
          "text": [
            "b'Skipping line 35718: expected 2 fields, saw 3\\nSkipping line 175064: expected 2 fields, saw 3\\n'\n",
            "b'Skipping line 358295: expected 2 fields, saw 3\\n'\n",
            "b'Skipping line 624065: expected 2 fields, saw 3\\nSkipping line 748939: expected 2 fields, saw 3\\nSkipping line 775837: expected 2 fields, saw 3\\n'\n",
            "b'Skipping line 790218: expected 2 fields, saw 3\\n'\n",
            "b'Skipping line 1260050: expected 2 fields, saw 3\\n'\n",
            "b'Skipping line 1540231: expected 2 fields, saw 3\\n'\n",
            "b'Skipping line 1573878: expected 2 fields, saw 3\\nSkipping line 1668766: expected 2 fields, saw 3\\nSkipping line 1714016: expected 2 fields, saw 3\\n'\n",
            "b'Skipping line 1944503: expected 2 fields, saw 3\\n'\n",
            "b'Skipping line 2108205: expected 2 fields, saw 3\\nSkipping line 2236154: expected 2 fields, saw 3\\n'\n",
            "b'Skipping line 2487140: expected 2 fields, saw 3\\n'\n",
            "b'Skipping line 2732035: expected 2 fields, saw 3\\nSkipping line 2810739: expected 2 fields, saw 3\\n'\n",
            "b'Skipping line 2886355: expected 2 fields, saw 3\\nSkipping line 2962786: expected 2 fields, saw 3\\n'\n",
            "  5%|▌         | 2604/50000 [00:00<00:01, 26037.91it/s]"
          ],
          "name": "stderr"
        },
        {
          "output_type": "stream",
          "text": [
            "2999172\n",
            "['#wh why hy# #ar are re# #ya yaw awn wns ns# #co con ont nta tag agi gio iou ous us# ', '#wh wha hat at# #th the he# #be bes est st# #wa way ay# #to to# #he hea eat at# #up up# #co col old ld# #ha ham amb mbu bur urg rge ger er# #in in# #ou out ut# ', '#va vac aca cat ati tio ion on# #re ren ent nta tal als ls# #in in# #th the he# #tu tur urk rks ks# #an and nd# #ca cai aic ico cos os# ', '#wh wha hat at# #ha has as# #mo mor ore re# #ca caf aff ffe fei ein ine ne# #do dou oub ubl ble le# #la lat att tte te# #or or# #la lar arg rge ge# #co cof off ffe fee ee# ', '#wh wha hat at# #co con onv nve ver ert rti tib ibl ble le# #ha has as# #fi fiv ive ve# #se sea eat ats ts# ', '#wh why hy# #do doe oes esn sn# #an an# #op opt pti tic ica cal al# #mo mou ous use se# #wo wor ork rk# #on on# #gl gla las ass ss# #ta tab abl ble le# ', '#wh why hy# #di did id# #th the he# #in inv nva vad ade de# #ir ira raq aq# ', '#be bes est st# #fi fin ini nis ish sh# #fo for or# #co con onc ncr cre ret ete te# #su sur urf rfa fac ace ces es# ', '#wh wha hat at# #is is# #th the he# #be bes est st# #of off ff# #ro roa oad ad# #mo mot oto tor orc rcy cyc ycl cle le# #tr tra rai ail il# ', '#wh wha hat at# #is is# #tr tra ran ans ns# #fa fat at# #ho how ow# #to to# #re red edu duc uce ce# #th tha hat at# ', '#wh whe hen en# #do doe oes es# #ki kid id# #us usu sua ual all lly ly# #mo mov ove ve# #fr fro rom om# #sl sle lee eep epi pin ing ng# #in in# #cr cri rib ib# #to to# #sl sle lee eep epi pin ing ng# #in in# #be bed ed# ', '#ro rot oth th# #ir ira ra# #vs vs# #40 401 01k 1k# ', '#ca cas asc sca cad adi din ing ng# #st sty tyl yle le# #sh she hee eet ets ts# ', '#ho how ow# #ma man any ny# #pl pla lan ane nes es# #fe fed ede dex ex# #ha has as# ', '#in in# #th the he# #sa san an# #fr fra ran anc nci cis isc sco co# #ba bay ay# #ar are rea ea# #do doe oes es# #it it# #ma mak ake ke# #se sen ens nse se# #to to# #re ren ent nt# #or or# #bu buy uy# ', '#wh why hy# #is is# #it it# #ca cal all lle led ed# #he hea eav avy vy# #me met eta tal al# #mu mus usi sic ic# ', '#wh wha hat at# #is is# #th the he# #be bes est st# #ph pho hot oto to# #sl sli lid ide des esh sho how ow# #cr cre rea eat ati tio ion on# #ap app ppl pli lic ica cat ati tio ion on# ', '#wh wha hat at# #wa was as# #th the he# #fi fir irs rst st# #dv dvd vd# #yo you ou# #ev eve ver er# #bo bou oug ugh ght ht# ', '#wh wha hat at# #is is# #th the he# #me mea ean ani nin ing ng# #of of# #li lif ife fe# ', '#wh wha hat at# #is is# #th the he# #be bes est st# #mo mos ost st# #po pow owe wer erf rfu ful ul# #po por ort rta tab abl ble le# #gp gps ps# #un uni nit it# ', '#wh wha hat at# #th the he# #be bes est st# #wa way ay# #to to# #cl cle lea ean an# #ke key eyb ybo boa oar ard rd# ', '#lo loo ook oki kin ing ng# #fo for or# #ne new ew# #bi bik ike ke# ', '#wh wha hat at# #is is# #go goo ood od# #ko kor ore rea ean an# #bb bbq bq# #re res est sta tau aur ura ran ant nt# #in in# #th the he# #ba bay ay# #ar are rea ea# ', '#wh wha hat at# #is is# #th the he# #si sin ing nge gel el# #mo mos ost st# #im imp mpo por ort rta tan ant nt# #th thi hin ing ng# #yo you ou# #ar are re# #mi mis iss ssi sin ing ng# #on on# #th the he# #in int nte ter ern rne net et# ', '#wh why hy# #do do# #pe peo eop opl ple le# #bl blu lus ush sh# #wh whe hen en# #th the hey ey# #ar are re# #em emb mba bar arr rra ras ass sse sed ed# ', '#wh wha hat at# #is is# #th the he# #be bet ett tte ter er# #wa way ay# #to to# #gr gri ril ill ll# #ou out utd tdo doo oor ors rs# #ga gas as# #or or# #ch cha har arc rco coa oal al# ', '#wh wha hat at# #is is# #ha hap app ppi pin ine nes ess ss# ', '#ca can an# #bo boy oys ys# #an and nd# #gi gir irl rls ls# #be be# #ju jus ust st# #fr fri rie ien end nds ds# ', '#is is# #li lin in# #qi qin ing ngx gxi xia ia# #ak aka ka# #br bri rig igi git itt tte te# #li lin in# #th the he# #mo mos ost st# #be bea eau aut uti tif ifu ful ul# #wo wom oma man an# #in in# #ch chi hin ine nes ese se# #ci cin ine nem ema ma# ', '#wh wha hat at# #is is# #th the he# #or ori rig igi gin in# #of of# #fo foo oob oba bar ar# ', '#ho how ow# #th the he# #hu hum uma man an# #sp spe pec eci cie ies es# #ev evo vol olv lve ved ed# ', '#wh wha hat at# #ma mak ake kes es# #fr fri rie ien end nds dsh shi hip ip# #cl cli lic ick ck# ', '#wh who ho# #sa sai aid id# #th the he# #st sta tat ate tem eme men ent nt# #be bel elo low ow# #an and nd# #wh wha hat at# #do doe oes es# #it it# #me mea ean an# ', '#ho how ow# #do do# #fi fin ind nd# #an an# #ou out ut# #of of# #pr pri rin int nt# #bo boo ook ok# ', '#wh wha hat at# #ar are re# #so som ome me# #ti tip ips ps# #on on# #fi fin ind ndi din ing ng# #go goo ood od# #mo mor ort rtg tga gag age ge# #br bro rok oke ker er# ', '#fl fla lap apj pja jac ack cks ks# #pr pro rob obl ble lem em# ', '#wh wha hat at# #th the he# #be bes est st# #wa way ay# #to to# #cr cre rea eat ate te# #bo boo oot ota tab abl ble le# #wi win ind ndo dos os# #do dos os# #cd cd# ', '#wh wha hat at# #is is# #th the he# #re rea eas aso son on# #fo for or# #th the he# #in inc ncr cre rea eas asi sin ing ng# #di div ivo vor orc rce ce# #pe per erc rce cen ent nta tag age ge# #in in# #th the he# #we wes est ste ter ern rn# #wo wor orl rld ld# ', '#wh wha hat at# #is is# #an an# #im ima mag agi gin ina nar ary ry# #nu num umb mbe ber er# ', '#tr tre rea eat atm tme men ent nts ts# #fo for or# #go gou out ut# ', '#wi win ine ner eri rie ies es# #in in# #th the he# #pa pas aso so# #ro rob obl ble les es# #ar are rea ea# ', '#wh wha hat at# #ar are re# #th the he# #be ben ene nef efi fit its ts# #of of# #us usi sin ing ng# #cf cf# #ca car ard rd# #re rea ead ade der er# #vs vs# #tr tra ran ans nsf sfe fer err rri rin ing ng# #us usi sin ing ng# #di dig igi git ita tal al# #ca cam ame mer era ra# ', '#wh wha hat at# #th the he# #le lea eas ast st# #ex exp xpe pen ens nsi siv ive ve# #wa way ay# #to to# #ma mak ake ke# #mo mov ovi vie ie# #us usi sin ing ng# #lo loc oca cal al# #ta tal ale len ent nt# ', '#fa fax axi xin ing ng# #pi piz izz zza za# ', '#ca can an# #re rep epa pai air ir# #se sea eal al# #cr cra rac ack ck# #in in# #to toi oil ile let et# #ta tan ank nk# ', '#wh wha hat at# #ar are re# #go goo ood od# #so sou our urc rce ces es# #to to# #fi fin ind nd# #ou out ut# #ab abo bou out ut# #ne new ew# #go gos osp spe pel el# #ar art rti tis ist sts ts# ', '#wh wha hat at# #th the he# #be bes est st# #st str tra rat ate teg egy gy# #to to# #wi win in# #pl pla lay ayi yin ing ng# #cr cra rap aps ps# ', '#is is# #co cof off ffe fee ee# #ba bad ad# #fo for or# #yo you our ur# #sk ski kin in# ', '#wh why hy# #is is# #si sil ili lic ico con on# #va val all lle ley ey# #cu cul ult ltu tur ura ral al# #wa was ast ste tel ela lan and nd# ', '#wh wha hat at# #is is# #th the he# #di dif iff ffe fer ere ren ent nt# #be bet etw twe wee een en# #mp mpe peg eg# #mp mpe peg eg2 g2# #av avi vi# #an and nd# #wm wmv mv# ', '#wa wan ant nt# #to to# #dr dri rin ink nk# #gl gla las ass sse ses es# #of of# #wa wat ate ter er# #ev eve ver ery ryd yda day ay# #as as# #re rec eco com omm mme men end nde ded ed# #by by# #do doc oct cto tor ors rs# #ho how owe wev eve ver er# ', '#sp spa pac ace ce# #mi mis iss ssi sio ion ons ns# ', '#br bru rus ush sh# #or or# #sp spo pon ong nge ge# #fo for or# #wa was ash shi hin ing ng# #yo you our ur# #ca car ar# ', '#go goo ood od# #we web eb# #de des esi sig ign gn# #fi fir irm rm# #in in# #sf sf# ', '#ho how ow# #bl bla lac ack ck# #ho hol ole le# #is is# #fo for orm rme med ed# ', '#re res est sta tau aur ura ran ant nt# #re rec eco com omm mme men end nda dat ati tio ion on# ', '#he hea eav avy vy# #wa wat ate ter er# ', '#wh whe hen en# #wi wil ill ll# #he her er# #ma maj aje jes est sty ty# #be be# #re rel ele lea eas ase sed ed# #in in# #dv dvd vd# #fo for orm rma mat at# ', '#ho how ow# #ca can an# #av avo voi oid id# #ge get ett tti tin ing ng# #si sic ick ck# #in in# #ch chi hin ina na# ', '#is is# #tr tra ran ans nsp spo pon ond nde der er# #re req equ qui uir ire red ed# #to to# #fl fly ly# #in in# #cl cla las ass ss# #ai air irs rsp spa pac ace ce# ', '#is is# #th the her ere re# #wo wor ord rd# #to to# #de des esc scr cri rib ibe be# #so so# #ex exc xci cit ite ted ed# #th tha hat at# #pu put utt tti tin ing ng# #in in# #ex exc xcl cla lam ama mat ati tio ion on# #po poi oin int nt# ', '#ho how ow# #to to# #ge get et# #ri rid id# #of of# #be bee eeh ehi hiv ive ve# ', '#wh whi hic ich ch# #is is# #th the he# #be bes est st# #mo mob obi bil ile le# #ph pho hon one ne# #se ser erv rvi vic ice ce# #in in# #th the he# #ba bay ay# #ar are rea ea# ', '#wh why hy# #ju jui uic ice ce# #fr fro rom om# #or ora ran ang nge ge# #pe pee eel el# #su sup upp ppo pos ose sed ed# #to to# #be be# #go goo ood od# #fo for or# #ey eye yes es# ', '#ni nic ice ce# #ap apa par art rtm tme men ent nt# #bu bui uil ild ldi din ing ng# #ne nea ear ar# #sb sbc bc# #pa par ark rk# ', '#gl glo lob oba bal al# #wa war arm rmi min ing ng# ', '#wh wha hat at# #ar are re# #wo wor orl rld ld# #sm sma mal all lle les est st# #na nat ati tio ion ons ns# ', '#wh wha hat at# #is is# #th the he# #be bes est st# #ri rid idd ddl dle le# #th tha hat at# #yo you ou# #kn kno now ow# ', '#bu buy uyi yin ing ng# #on on# #th the he# #ne net et# ', '#ec eco con ono nom omi mic ics cs# #of of# #ru run unn nni nin ing ng# #re res est sta tau aur ura ran ant nt# ', '#ho how ow# #to to# #re rem emo mov ove ve# #tr tre ree ee# #sa sap ap# #fr fro rom om# #ca car ar# ', '#wh why hy# #do do# #ga gas as# #st sta tat ati tio ion ons ns# #mi mix ix# #et eth tha han ano nol ol# #in int nto to# #ga gas as# ', '#wo won on# #th the he# #co con onc nce cep ept pt# #of of# #ar arr rra ran ang nge ged ed# #ma mar arr rri ria iag age ge# #go go# #aw awa way ay# #ev eve ven ent ntu tua ual all lly ly# ', '#wh why hy# #is is# #it it# #im imp mpo pos oss ssi sib ibl ble le# #to to# #fl fly ly# #fa fas ast ste ter er# #th the hen en# #sp spe pee eed ed# #of of# #li lig igh ght ht# ', '#wh why hy# #we we# #ar are re# #no not ot# #us usi sin ing ng# #th the he# #se sea ea# #wa wav ave ves es# #to to# #ge gen ene ner era rat ate te# #el ele lec ect ctr tri ric ici cit ity ty# ', '#wh wha hat at# #vo vol olt lta tag age ge# #ad ada dap apt pte ter er# #sh sho hou oul uld ld# #us use se# #fo for or# #my my# #4v 4v# #pd pda da# ', '#wh whi hic ich ch# #ar are re# #th the he# #be bes est st# #12 12# #pu pub ubl bli lic ic# #sc sch cho hoo ool ols ls# #in in# #th the he# #sf sf# #ba bay ay# #ar are rea ea# ', '#ho how ow# #do do# #us use se# #th the he# #mu mun uni ni# #in in# #sf sf# ', '#wh why hy# #li liv ive ve# #in in# #hu hur urr rri ric ica can ane ne# #pl pla lac ace ce# #fl flo lor ori rid ida da# ', '#ho how ow# #do do# #re rem emo mov ove ve# #ca can and ndl dle le# #wa wax ax# #fr fro rom om# #po pol ola lar ar# #fl fle lee eec ece ce# #ja jac ack cke ket et# ', '#is is# #la lab abo bor or# #da day ay# #we wee eek eke ken end nd# #go goo ood od# #ti tim ime me# #to to# #vi vis isi sit it# #pa par ara ram amo mou oun unt nt# #gr gre rea eat at# #am ame mer eri ric ica ca# ', '#ho how ow# #do do# #ma mal ale le# #pe pen eng ngu gui uin ins ns# #su sur urv rvi viv ive ve# #wi wit ith tho hou out ut# #ea eat ati tin ing ng# #fo for or# #fo fou our ur# #mo mon ont nth ths hs# ', '#ar are re# #th thi hin ing ngs gs# #me men ent nti tio ion one ned ed# #ab abo bou out ut# #le leo eon ona nar ard rdo do# #in in# #da da# #vi vin inc nci ci# #co cod ode de# #tr tru rue ue# ', '#wh why hy# #do doe oes esn sn# #th the he# #nb nba ba# #im imp mpl ple lem eme men ent nt# #mi min ino nor or# #le lea eag agu gue ues es# ', '#wh why hy# #do don on# #eu eur uro rop ope pea ean an# #re res est sta tau aur ura ran ant nts ts# #se ser erv rve ve# #wa wat ate ter er# ', '#wh wha hat at# #th the he# #lo lon ong nge ges est st# #en eng ngl gli lis ish sh# #wo wor ord rd# #wi wit ith tho hou out ut# #vo vow owe wel el# #in in# #it it# ', '#fo for orm rmu mul ula la1 a1# #ca car ar# ', '#wh wha hat at# #wa was as# #th the he# #na nam ame me# #of of# #ch cha har ara rac act cte ter er# #va val al# #ki kil ilm lme mer er# #pl pla lay aye yed ed# #in in# #th the he# #mo mov ovi vie ie# #he hea eat at# ', '#wh wha hat at# #ar are re# #d2 d2k 2k# #to too ool ols ls# ', '#wo wor orl rld ld# #sm sma mal all lle les est st# #vo vol olc lca can ano no# ', '#wh who ho# #de dec eci cid ide ded ed# #re red ed# #me mea ean ans ns# #st sto top op# #an and nd# #gr gre ree een en# #me mea ean ans ns# #go go# ', '#ho how ow# #wa was as# #ei ein ins nst ste tei ein in# #ge gen ene ner era ral al# #re rel ela lat ati tiv ivi vit ity ty# #th the heo eor ory ry# #pr pro rov ove ven en# ', '#ca can an# #so som ome meo eon one ne# #te tel ell ll# #me me# #wh wha hat at# #ha hap app ppe pen ene ned ed# #in in# #bu buf uff ffy fy# #se ser eri rie ies es# #fi fin ina nal ale le# ', '#wh why hy# #hy hyb ybr bri rid id# #ca car ars rs# #ga gas as# #mi mil ile lea eag age ge# #is is# #be bet ett tte ter er# #in in# #ci cit ity ty# ', '#is isn sn# #no non on# #vi vio iol ole len enc nce ce# #an and nd# #no non on# #co coo oop ope per era rat ati tio ion on# #mo mor ore re# #ef eff ffe fec ect cti tiv ive ve# #th tha han an# #wa war ar# ', '#go goo ood od# #wa way ays ys# #to to# #fi fig igh ght ht# #an an# #an ant nt# #in inv nva vas asi sio ion on# ', '#wh who ho# #wa was as# #th the he# #fi fif ift fte tee een ent nth th# #pr pre res esi sid ide den ent nt# ', '#ho how ow# #do doe oes es# #pe per ers rso son on# #li liv ive ve# #hi his is# #wh who hol ole le# #li lif ife fe# #wi wit ith th# #th the he# #no not oti tio ion on# #of of# #im imp mpe pen end ndi din ing ng# #de dea eat ath th# ', '#ho how ow# #do doe oes es# #he hel eli lic ico cop opt pte ter er# #fl fly ly# ', '#wh why hy# #wo wou oul uld ld# #bi big ig# #te ten en# #ke kee eep ep# #it its ts# #na nam ame me# #in ins nsp spi pit ite te# #of of# #ad add ddi din ing ng# #11 11t 1th th# #sc sch cho hoo ool ol# ', '#ho how ow# #co com ome me# #fi fir ire re# #tr tru ruc uck cks ks# #ar are re# #re red ed# ']\n"
          ],
          "name": "stdout"
        },
        {
          "output_type": "stream",
          "text": [
            "100%|██████████| 50000/50000 [00:01<00:00, 26261.52it/s]\n",
            "100%|██████████| 50000/50000 [00:10<00:00, 4554.30it/s]\n"
          ],
          "name": "stderr"
        }
      ]
    },
    {
      "cell_type": "code",
      "metadata": {
        "id": "o5yyLPsEfg2b",
        "colab_type": "code",
        "outputId": "1e349580-fdc9-4fab-9361-fd9704b7e8a2",
        "colab": {
          "base_uri": "https://localhost:8080/",
          "height": 171
        }
      },
      "source": [
        "from google.colab import drive\n",
        "import os\n",
        "drive.mount('/content/drive/')\n",
        "os.chdir('/content/drive/My Drive/NLP-project')\n",
        "!ls\n",
        "\n",
        "dict_res = {}\n",
        "index = 0\n",
        "\n",
        "printtt = True\n",
        "for res in result:\n",
        "  for trigram in res.split(' '):\n",
        "    if trigram not in dict_res.keys():\n",
        "      dict_res[trigram] = index\n",
        "      index += 1\n",
        "    if printtt:\n",
        "      print(trigram, '*****')\n",
        "      printtt = False\n",
        "  \n",
        "with open('sem_hash','wb') as f:\n",
        "  pickle.dump(dict_res,f)\n",
        "\n",
        "print(len(dict_res.keys()))\n",
        "# files.download('sem_hash')"
      ],
      "execution_count": 0,
      "outputs": [
        {
          "output_type": "stream",
          "text": [
            "Go to this URL in a browser: https://accounts.google.com/o/oauth2/auth?client_id=947318989803-6bn6qk8qdgf4n4g3pfee6491hc0brc4i.apps.googleusercontent.com&redirect_uri=urn%3aietf%3awg%3aoauth%3a2.0%3aoob&response_type=code&scope=email%20https%3a%2f%2fwww.googleapis.com%2fauth%2fdocs.test%20https%3a%2f%2fwww.googleapis.com%2fauth%2fdrive%20https%3a%2f%2fwww.googleapis.com%2fauth%2fdrive.photos.readonly%20https%3a%2f%2fwww.googleapis.com%2fauth%2fpeopleapi.readonly\n",
            "\n",
            "Enter your authorization code:\n",
            "··········\n",
            "Mounted at /content/drive/\n",
            "YahooAnswers.tsv\n",
            "#wh *****\n",
            "23218\n"
          ],
          "name": "stdout"
        }
      ]
    },
    {
      "cell_type": "code",
      "metadata": {
        "id": "3mcczIaEWJ8m",
        "colab_type": "code",
        "outputId": "da9c3d35-a11f-46db-8de9-8a55175b17b0",
        "colab": {
          "base_uri": "https://localhost:8080/",
          "height": 34
        }
      },
      "source": [
        "os.chdir('/content/')\n",
        "!ls\n",
        "with open('sem_hash','wb') as f:\n",
        "  pickle.dump(dict_res,f)"
      ],
      "execution_count": 0,
      "outputs": [
        {
          "output_type": "stream",
          "text": [
            "adc.json  drive  QA.tsv  sample_data\n"
          ],
          "name": "stdout"
        }
      ]
    },
    {
      "cell_type": "code",
      "metadata": {
        "id": "W255DjtjV7qi",
        "colab_type": "code",
        "outputId": "f0039611-ee27-4351-87d8-30dff230b40f",
        "colab": {
          "base_uri": "https://localhost:8080/",
          "height": 34
        }
      },
      "source": [
        "!pwd"
      ],
      "execution_count": 0,
      "outputs": [
        {
          "output_type": "stream",
          "text": [
            "/content\n"
          ],
          "name": "stdout"
        }
      ]
    },
    {
      "cell_type": "code",
      "metadata": {
        "id": "1UMCuZynDM2o",
        "colab_type": "code",
        "colab": {}
      },
      "source": [
        ""
      ],
      "execution_count": 0,
      "outputs": []
    }
  ]
}